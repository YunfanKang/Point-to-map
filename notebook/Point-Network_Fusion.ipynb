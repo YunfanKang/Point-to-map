{
 "cells": [
  {
   "cell_type": "code",
   "execution_count": 1,
   "metadata": {},
   "outputs": [],
   "source": [
    "import sys\n",
    "import os\n",
    "\n",
    "module_path = os.path.abspath(os.path.join('../lib'))\n",
    "if module_path not in sys.path:\n",
    "    sys.path.append(module_path)\n",
    "\n",
    "\n",
    "from multiMapMatching import *\n",
    "from hotspot import *"
   ]
  },
  {
   "cell_type": "code",
   "execution_count": 2,
   "metadata": {},
   "outputs": [
    {
     "name": "stdout",
     "output_type": "stream",
     "text": [
      "Total number of events: 14416\n"
     ]
    },
    {
     "ename": "KeyboardInterrupt",
     "evalue": "",
     "output_type": "error",
     "traceback": [
      "\u001b[0;31m---------------------------------------------------------------------------\u001b[0m",
      "\u001b[0;31mKeyboardInterrupt\u001b[0m                         Traceback (most recent call last)",
      "Cell \u001b[0;32mIn[2], line 1\u001b[0m\n\u001b[0;32m----> 1\u001b[0m G \u001b[38;5;241m=\u001b[39m match_points_to_network(\u001b[38;5;124m\"\u001b[39m\u001b[38;5;124mChicago\u001b[39m\u001b[38;5;124m\"\u001b[39m, \u001b[38;5;124m\"\u001b[39m\u001b[38;5;124m../data/Crimes_Chicago_last 30.csv\u001b[39m\u001b[38;5;124m\"\u001b[39m,  \u001b[38;5;124m\"\u001b[39m\u001b[38;5;124mLongitude\u001b[39m\u001b[38;5;124m\"\u001b[39m, \u001b[38;5;124m\"\u001b[39m\u001b[38;5;124mLatitude\u001b[39m\u001b[38;5;124m\"\u001b[39m, \u001b[38;5;241m10\u001b[39m )\n",
      "File \u001b[0;32m~/Documents/GitHub/Point-to-map/lib/multiMapMatching.py:57\u001b[0m, in \u001b[0;36mmatch_points_to_network\u001b[0;34m(location, data_file, lon, lat, number_of_processes, output_folder)\u001b[0m\n\u001b[1;32m     55\u001b[0m \tx \u001b[38;5;241m=\u001b[39m x \u001b[38;5;241m+\u001b[39m \u001b[38;5;241m0.06\u001b[39m\n\u001b[1;32m     56\u001b[0m p\u001b[38;5;241m.\u001b[39mclose()\n\u001b[0;32m---> 57\u001b[0m p\u001b[38;5;241m.\u001b[39mjoin() \n\u001b[1;32m     58\u001b[0m \u001b[38;5;28;01mreturn\u001b[39;00m combine_grid(output_folder)\n",
      "File \u001b[0;32m~/anaconda3/lib/python3.11/multiprocessing/pool.py:665\u001b[0m, in \u001b[0;36mPool.join\u001b[0;34m(self)\u001b[0m\n\u001b[1;32m    663\u001b[0m \u001b[38;5;28;01melif\u001b[39;00m \u001b[38;5;28mself\u001b[39m\u001b[38;5;241m.\u001b[39m_state \u001b[38;5;129;01mnot\u001b[39;00m \u001b[38;5;129;01min\u001b[39;00m (CLOSE, TERMINATE):\n\u001b[1;32m    664\u001b[0m     \u001b[38;5;28;01mraise\u001b[39;00m \u001b[38;5;167;01mValueError\u001b[39;00m(\u001b[38;5;124m\"\u001b[39m\u001b[38;5;124mIn unknown state\u001b[39m\u001b[38;5;124m\"\u001b[39m)\n\u001b[0;32m--> 665\u001b[0m \u001b[38;5;28mself\u001b[39m\u001b[38;5;241m.\u001b[39m_worker_handler\u001b[38;5;241m.\u001b[39mjoin()\n\u001b[1;32m    666\u001b[0m \u001b[38;5;28mself\u001b[39m\u001b[38;5;241m.\u001b[39m_task_handler\u001b[38;5;241m.\u001b[39mjoin()\n\u001b[1;32m    667\u001b[0m \u001b[38;5;28mself\u001b[39m\u001b[38;5;241m.\u001b[39m_result_handler\u001b[38;5;241m.\u001b[39mjoin()\n",
      "File \u001b[0;32m~/anaconda3/lib/python3.11/threading.py:1112\u001b[0m, in \u001b[0;36mThread.join\u001b[0;34m(self, timeout)\u001b[0m\n\u001b[1;32m   1109\u001b[0m     \u001b[38;5;28;01mraise\u001b[39;00m \u001b[38;5;167;01mRuntimeError\u001b[39;00m(\u001b[38;5;124m\"\u001b[39m\u001b[38;5;124mcannot join current thread\u001b[39m\u001b[38;5;124m\"\u001b[39m)\n\u001b[1;32m   1111\u001b[0m \u001b[38;5;28;01mif\u001b[39;00m timeout \u001b[38;5;129;01mis\u001b[39;00m \u001b[38;5;28;01mNone\u001b[39;00m:\n\u001b[0;32m-> 1112\u001b[0m     \u001b[38;5;28mself\u001b[39m\u001b[38;5;241m.\u001b[39m_wait_for_tstate_lock()\n\u001b[1;32m   1113\u001b[0m \u001b[38;5;28;01melse\u001b[39;00m:\n\u001b[1;32m   1114\u001b[0m     \u001b[38;5;66;03m# the behavior of a negative timeout isn't documented, but\u001b[39;00m\n\u001b[1;32m   1115\u001b[0m     \u001b[38;5;66;03m# historically .join(timeout=x) for x<0 has acted as if timeout=0\u001b[39;00m\n\u001b[1;32m   1116\u001b[0m     \u001b[38;5;28mself\u001b[39m\u001b[38;5;241m.\u001b[39m_wait_for_tstate_lock(timeout\u001b[38;5;241m=\u001b[39m\u001b[38;5;28mmax\u001b[39m(timeout, \u001b[38;5;241m0\u001b[39m))\n",
      "File \u001b[0;32m~/anaconda3/lib/python3.11/threading.py:1132\u001b[0m, in \u001b[0;36mThread._wait_for_tstate_lock\u001b[0;34m(self, block, timeout)\u001b[0m\n\u001b[1;32m   1129\u001b[0m     \u001b[38;5;28;01mreturn\u001b[39;00m\n\u001b[1;32m   1131\u001b[0m \u001b[38;5;28;01mtry\u001b[39;00m:\n\u001b[0;32m-> 1132\u001b[0m     \u001b[38;5;28;01mif\u001b[39;00m lock\u001b[38;5;241m.\u001b[39macquire(block, timeout):\n\u001b[1;32m   1133\u001b[0m         lock\u001b[38;5;241m.\u001b[39mrelease()\n\u001b[1;32m   1134\u001b[0m         \u001b[38;5;28mself\u001b[39m\u001b[38;5;241m.\u001b[39m_stop()\n",
      "\u001b[0;31mKeyboardInterrupt\u001b[0m: "
     ]
    },
    {
     "name": "stdout",
     "output_type": "stream",
     "text": [
      "Create area centered at  (-87.907472601, 41.704589713000004)\n",
      "Create area centered at  (-87.907472601, 41.644589713)\n",
      "Create area centered at  (-87.907472601, 41.82458971300001)\n",
      "Create area centered at  (-87.907472601, 41.76458971300001)\n",
      "Callback received: Fail to match points in grid (-87.907472601, 41.644589713): NaN or None values are not allowed.\n",
      "Callback received: Fail to match points in grid (-87.907472601, 41.704589713000004): NaN or None values are not allowed.\n",
      "Create area centered at  (-87.907472601, 41.88458971300001)\n",
      "Create area centered at  (-87.907472601, 41.94458971300001)\n",
      "Create area centered at  (-87.907472601, 42.004589713000016)\n",
      "Create area centered at Create area centered at  (-87.84747260099999, 41.88458971300001)\n",
      " (-87.84747260099999, 41.644589713)\n",
      "Callback received: Fail to match points in grid (-87.907472601, 41.82458971300001): NaN or None values are not allowed.\n",
      "Callback received: Fail to match points in grid (-87.907472601, 41.76458971300001): NaN or None values are not allowed.\n",
      "Create area centered at  (-87.84747260099999, 41.82458971300001)\n",
      "Create area centered at  (-87.84747260099999, 41.704589713000004)\n",
      "Create area centered at  (-87.84747260099999, 41.94458971300001)\n",
      "Callback received: Fail to match points in grid (-87.907472601, 41.88458971300001): NaN or None values are not allowed.\n",
      "Create area centered at  (-87.84747260099999, 42.004589713000016)\n",
      "Callback received: Fail to match points in grid (-87.84747260099999, 41.88458971300001): NaN or None values are not allowed.\n",
      "Callback received: Fail to match points in grid (-87.84747260099999, 41.644589713): NaN or None values are not allowed.\n",
      "Callback received: Fail to match points in grid (-87.84747260099999, 41.82458971300001): NaN or None values are not allowed.\n",
      "Create area centered at  (-87.78747260099999, 41.644589713)\n",
      "Callback received: Fail to match points in grid (-87.84747260099999, 41.704589713000004): NaN or None values are not allowed.\n",
      "Create area centered at  (-87.78747260099999, 41.76458971300001)\n",
      "Create area centered at  (-87.84747260099999, 41.76458971300001)\n",
      "Create area centered at  (-87.78747260099999, 41.704589713000004)\n",
      "Create area centered at  (-87.78747260099999, 41.82458971300001)\n",
      "Create area centered at  (-87.78747260099999, 41.88458971300001)\n",
      "Callback received: Fail to match points in grid (-87.78747260099999, 41.644589713): NaN or None values are not allowed.\n",
      "Callback received: Fail to match points in grid (-87.78747260099999, 41.704589713000004): NaN or None values are not allowed.\n",
      "Callback received: Fail to match points in grid (-87.84747260099999, 41.76458971300001): NaN or None values are not allowed.\n",
      "Create area centered at  (-87.78747260099999, 41.94458971300001)\n",
      "Create area centered at  (-87.78747260099999, 42.004589713000016)\n",
      "Create area centered at  (-87.72747260099999, 41.644589713)\n",
      "Callback received: Fail to match points in grid (-87.72747260099999, 41.644589713): NaN or None values are not allowed.\n",
      "Create area centered at  (-87.72747260099999, 41.704589713000004)\n",
      "Callback received: Grid centered at (-87.907472601, 41.94458971300001) created successfully!\n",
      "Create area centered at  (-87.72747260099999, 41.76458971300001)\n",
      "Callback received: Grid centered at (-87.78747260099999, 41.82458971300001) created successfully!\n",
      "Create area centered at  (-87.72747260099999, 41.82458971300001)\n",
      "Callback received: Grid centered at (-87.84747260099999, 41.94458971300001) created successfully!\n",
      "Create area centered at  (-87.72747260099999, 41.88458971300001)\n",
      "Callback received: Grid centered at (-87.72747260099999, 41.704589713000004) created successfully!\n",
      "Create area centered at  (-87.72747260099999, 41.94458971300001)\n",
      "Callback received: Grid centered at (-87.84747260099999, 42.004589713000016) created successfully!\n",
      "Create area centered at  (-87.72747260099999, 42.004589713000016)\n",
      "Callback received: Grid centered at (-87.907472601, 42.004589713000016) created successfully!\n",
      "Create area centered at  (-87.66747260099999, 41.644589713)\n",
      "Callback received: Grid centered at (-87.66747260099999, 41.644589713) created successfully!\n",
      "Create area centered at  (-87.66747260099999, 41.704589713000004)\n",
      "Callback received: Grid centered at (-87.78747260099999, 41.76458971300001) created successfully!\n",
      "Create area centered at  (-87.66747260099999, 41.76458971300001)\n",
      "Callback received: Grid centered at (-87.78747260099999, 42.004589713000016) created successfully!\n",
      "Create area centered at  (-87.66747260099999, 41.82458971300001)\n",
      "Callback received: Grid centered at (-87.72747260099999, 42.004589713000016) created successfully!\n",
      "Create area centered at  (-87.66747260099999, 41.88458971300001)\n",
      "Callback received: Grid centered at (-87.78747260099999, 41.88458971300001) created successfully!\n",
      "Create area centered at  (-87.66747260099999, 41.94458971300001)\n"
     ]
    }
   ],
   "source": [
    "G = match_points_to_network(\"Chicago\", \"../data/Crimes_Chicago_last 30.csv\",  \"Longitude\", \"Latitude\", 10 )"
   ]
  },
  {
   "cell_type": "code",
   "execution_count": null,
   "metadata": {},
   "outputs": [],
   "source": [
    "nc = [\"r\" if (node <0) else \"b\" for node in G.nodes()]\n",
    "ns = [10 if (node <0) else 0 for node in G.nodes()]\n",
    "fig, ax = ox.plot_graph(G, node_color=nc, node_size = ns, bgcolor = '#ffffff', save = False)"
   ]
  },
  {
   "cell_type": "code",
   "execution_count": 7,
   "metadata": {},
   "outputs": [],
   "source": [
    "from network_local_k import *\n",
    "\n",
    "node = G.nodes[0]\n",
    "network_local_k(n, G, whole(G), l(G))"
   ]
  }
 ],
 "metadata": {
  "kernelspec": {
   "display_name": "base",
   "language": "python",
   "name": "python3"
  },
  "language_info": {
   "codemirror_mode": {
    "name": "ipython",
    "version": 3
   },
   "file_extension": ".py",
   "mimetype": "text/x-python",
   "name": "python",
   "nbconvert_exporter": "python",
   "pygments_lexer": "ipython3",
   "version": "3.11.5"
  }
 },
 "nbformat": 4,
 "nbformat_minor": 2
}
